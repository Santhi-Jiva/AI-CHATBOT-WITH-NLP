{
 "cells": [
  {
   "cell_type": "code",
   "execution_count": 3,
   "id": "102751da-34bb-4edd-80c4-8033e237ee74",
   "metadata": {},
   "outputs": [
    {
     "name": "stderr",
     "output_type": "stream",
     "text": [
      "[nltk_data] Downloading package punkt to\n",
      "[nltk_data]     /home/rguktongole/nltk_data...\n",
      "[nltk_data]   Package punkt is already up-to-date!\n"
     ]
    },
    {
     "data": {
      "text/plain": [
       "True"
      ]
     },
     "execution_count": 3,
     "metadata": {},
     "output_type": "execute_result"
    }
   ],
   "source": [
    "import nltk\n",
    "nltk.download('punkt')\n"
   ]
  },
  {
   "cell_type": "code",
   "execution_count": null,
   "id": "3420b4f4-624e-4b80-82e5-286b94cd3ba5",
   "metadata": {},
   "outputs": [
    {
     "name": "stdout",
     "output_type": "stream",
     "text": [
      "🤖 Chatbot: Hi! Ask me anything. Type 'exit' to quit.\n"
     ]
    },
    {
     "name": "stdin",
     "output_type": "stream",
     "text": [
      "You:  hi\n"
     ]
    },
    {
     "name": "stdout",
     "output_type": "stream",
     "text": [
      "🤖 Chatbot: Hello!\n"
     ]
    },
    {
     "name": "stdin",
     "output_type": "stream",
     "text": [
      "You:  how are you\n"
     ]
    },
    {
     "name": "stdout",
     "output_type": "stream",
     "text": [
      "🤖 Chatbot: Can you rephrase?\n"
     ]
    },
    {
     "name": "stdin",
     "output_type": "stream",
     "text": [
      "You:  time\n"
     ]
    },
    {
     "name": "stdout",
     "output_type": "stream",
     "text": [
      "🤖 Chatbot: The current time is 15:19:33\n"
     ]
    },
    {
     "name": "stdin",
     "output_type": "stream",
     "text": [
      "You:  joke\n"
     ]
    },
    {
     "name": "stdout",
     "output_type": "stream",
     "text": [
      "🤖 Chatbot: I told my AI to tell a joke... but it didn’t get it!\n"
     ]
    },
    {
     "name": "stdin",
     "output_type": "stream",
     "text": [
      "You:  joke\n"
     ]
    },
    {
     "name": "stdout",
     "output_type": "stream",
     "text": [
      "🤖 Chatbot: Why don’t scientists trust atoms? Because they make up everything!\n"
     ]
    },
    {
     "name": "stdin",
     "output_type": "stream",
     "text": [
      "You:  date\n"
     ]
    },
    {
     "name": "stdout",
     "output_type": "stream",
     "text": [
      "🤖 Chatbot: Today's date is 2025-07-03\n"
     ]
    },
    {
     "name": "stdin",
     "output_type": "stream",
     "text": [
      "You:  weather\n"
     ]
    },
    {
     "name": "stdout",
     "output_type": "stream",
     "text": [
      "🤖 Chatbot: I can't access weather data, but I hope it's nice!\n"
     ]
    },
    {
     "name": "stdin",
     "output_type": "stream",
     "text": [
      "You:  fact\n"
     ]
    },
    {
     "name": "stdout",
     "output_type": "stream",
     "text": [
      "🤖 Chatbot: Octopuses have three hearts.\n"
     ]
    }
   ],
   "source": [
    "import random\n",
    "import datetime\n",
    "\n",
    "# Optional: uncomment the next two lines if you want Wikipedia support\n",
    "# import wikipedia\n",
    "# wikipedia.set_lang(\"en\")\n",
    "\n",
    "# Extended intents\n",
    "intents = {\n",
    "    \"greeting\": [\"hello\", \"hi\", \"hey\", \"greetings\"],\n",
    "    \"farewell\": [\"bye\", \"goodbye\", \"exit\", \"quit\"],\n",
    "    \"thanks\": [\"thanks\", \"thank you\"],\n",
    "    \"time\": [\"time\", \"current time\"],\n",
    "    \"date\": [\"date\", \"today\"],\n",
    "    \"weather\": [\"weather\", \"temperature\", \"forecast\"],\n",
    "    \"joke\": [\"joke\", \"funny\"],\n",
    "    \"math\": [\"calculate\", \"what is\", \"solve\", \"+\", \"-\", \"*\", \"/\"],\n",
    "    \"fact\": [\"fact\", \"tell me something\", \"interesting\"],\n",
    "    # \"wiki\": [\"who is\", \"what is\", \"tell me about\"],  # Requires Wikipedia package\n",
    "}\n",
    "\n",
    "# Responses\n",
    "responses = {\n",
    "    \"greeting\": [\"Hi!\", \"Hello!\", \"Hey there!\", \"Greetings!\"],\n",
    "    \"farewell\": [\"Goodbye!\", \"See you!\", \"Bye! Have a nice day!\"],\n",
    "    \"thanks\": [\"You're welcome!\", \"No problem!\", \"Glad to help!\"],\n",
    "    \"time\": [lambda: f\"The current time is {datetime.datetime.now().strftime('%H:%M:%S')}\"],\n",
    "    \"date\": [lambda: f\"Today's date is {datetime.datetime.now().strftime('%Y-%m-%d')}\"],\n",
    "    \"weather\": [\"I can't access weather data, but I hope it's nice!\"],\n",
    "    \"joke\": [\n",
    "        \"Why don’t scientists trust atoms? Because they make up everything!\",\n",
    "        \"Why did the computer show up late to work? It had a hard drive!\",\n",
    "        \"I told my AI to tell a joke... but it didn’t get it!\"\n",
    "    ],\n",
    "    \"fact\": [\n",
    "        \"Honey never spoils. Archaeologists have found edible honey in ancient Egyptian tombs.\",\n",
    "        \"Octopuses have three hearts.\",\n",
    "        \"Bananas are berries, but strawberries aren’t.\"\n",
    "    ],\n",
    "    \"default\": [\"I'm not sure how to respond to that.\", \"Can you rephrase?\", \"Hmm, I didn't get that.\"]\n",
    "}\n",
    "\n",
    "# Intent matcher\n",
    "def get_intent(user_input):\n",
    "    user_input = user_input.lower()\n",
    "    words = user_input.split()\n",
    "\n",
    "    # Match keywords\n",
    "    for intent, keywords in intents.items():\n",
    "        for keyword in keywords:\n",
    "            if keyword in user_input or keyword in words:\n",
    "                return intent\n",
    "\n",
    "    # Fallback\n",
    "    return \"default\"\n",
    "\n",
    "# Handle math input\n",
    "def handle_math(user_input):\n",
    "    try:\n",
    "        expression = user_input.replace(\"calculate\", \"\").replace(\"what is\", \"\")\n",
    "        result = eval(expression.strip())\n",
    "        return f\"The answer is {result}\"\n",
    "    except:\n",
    "        return \"Sorry, I couldn't calculate that.\"\n",
    "\n",
    "# Chat function\n",
    "def chatbot():\n",
    "    print(\"🤖 Chatbot: Hi! Ask me anything. Type 'exit' to quit.\")\n",
    "    while True:\n",
    "        user_input = input(\"You: \")\n",
    "        if user_input.lower().strip() in [\"exit\", \"quit\", \"bye\"]:\n",
    "            print(\"🤖 Chatbot:\", random.choice(responses[\"farewell\"]))\n",
    "            break\n",
    "\n",
    "        intent = get_intent(user_input)\n",
    "\n",
    "        # Custom logic for math\n",
    "        if intent == \"math\":\n",
    "            reply = handle_math(user_input)\n",
    "\n",
    "        # Optional: Uncomment to use Wikipedia\n",
    "        # elif intent == \"wiki\":\n",
    "        #     try:\n",
    "        #         topic = user_input.replace(\"who is\", \"\").replace(\"what is\", \"\").strip()\n",
    "        #         summary = wikipedia.summary(topic, sentences=2)\n",
    "        #         reply = summary\n",
    "        #     except:\n",
    "        #         reply = \"Sorry, I couldn't find information on that.\"\n",
    "\n",
    "        else:\n",
    "            reply = random.choice(responses[intent])\n",
    "            if callable(reply):\n",
    "                reply = reply()\n",
    "\n",
    "        print(\"🤖 Chatbot:\", reply)\n",
    "\n",
    "# Run it\n",
    "if __name__ == \"__main__\":\n",
    "    chatbot()\n"
   ]
  },
  {
   "cell_type": "code",
   "execution_count": null,
   "id": "013dbc12-2b00-4a67-8cec-98c64c215c4f",
   "metadata": {},
   "outputs": [],
   "source": []
  }
 ],
 "metadata": {
  "kernelspec": {
   "display_name": "Python 3 (ipykernel)",
   "language": "python",
   "name": "python3"
  },
  "language_info": {
   "codemirror_mode": {
    "name": "ipython",
    "version": 3
   },
   "file_extension": ".py",
   "mimetype": "text/x-python",
   "name": "python",
   "nbconvert_exporter": "python",
   "pygments_lexer": "ipython3",
   "version": "3.8.10"
  }
 },
 "nbformat": 4,
 "nbformat_minor": 5
}
